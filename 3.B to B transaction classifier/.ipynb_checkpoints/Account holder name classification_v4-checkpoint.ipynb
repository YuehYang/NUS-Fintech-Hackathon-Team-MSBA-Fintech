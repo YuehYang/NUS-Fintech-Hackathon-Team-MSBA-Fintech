{
 "cells": [
  {
   "cell_type": "markdown",
   "metadata": {},
   "source": [
    "This notebook shows the process of classifying bank account holder names into company names and private names. We will execute background check with Web data scraping and NLP, but it is meaningless to conduct it for induvidual customers. Therefore, as a first step, we classify them using Naive Basian Classifier.\n",
    "![caption](data/flow.png)"
   ]
  },
  {
   "cell_type": "markdown",
   "metadata": {},
   "source": [
    "# Install packages"
   ]
  },
  {
   "cell_type": "code",
   "execution_count": null,
   "metadata": {},
   "outputs": [],
   "source": [
    "!pip install pandas\n",
    "!pip install numpy\n",
    "!pip install matplotlib\n",
    "!pip install seaborn\n",
    "!pip install sklearn"
   ]
  },
  {
   "cell_type": "markdown",
   "metadata": {},
   "source": [
    "# Account holder name classification"
   ]
  },
  {
   "cell_type": "code",
   "execution_count": 2,
   "metadata": {},
   "outputs": [],
   "source": [
    "#Import libraries in use\n",
    "\n",
    "import pandas as pd\n",
    "import numpy as np \n",
    "import matplotlib.pyplot as plt\n",
    "import seaborn as sns\n",
    "from sklearn.metrics import confusion_matrix\n",
    "from sklearn.metrics import accuracy_score\n",
    "from sklearn.metrics import plot_confusion_matrix\n",
    "from sklearn.metrics import f1_score\n",
    "from sklearn.feature_extraction.text import CountVectorizer\n",
    "from sklearn.naive_bayes import MultinomialNB\n",
    "\n",
    "\n",
    "%matplotlib inline"
   ]
  },
  {
   "cell_type": "code",
   "execution_count": 4,
   "metadata": {},
   "outputs": [
    {
     "name": "stdout",
     "output_type": "stream",
     "text": [
      "Number of companies: 2183192\n",
      "Number of first names: 5163\n",
      "Number of last names: 88799\n",
      "Number of names: 2183192\n"
     ]
    }
   ],
   "source": [
    "#import company name data\n",
    "comp_df = pd.read_csv('data/list-of-companies-in-united-states.csv')\n",
    "comp_df.columns = ['Account name']\n",
    "comp_df['Label'] = 1\n",
    "print('Number of companies:', len(comp_df.index))\n",
    "\n",
    "#import first and last names\n",
    "fn_df = pd.read_csv('data/us.txt', header=None)\n",
    "ln_df = pd.read_csv('data/us_ln.txt', header=None)\n",
    "print('Number of first names:', len(fn_df.index))\n",
    "print('Number of last names:', len(ln_df.index))\n",
    "\n",
    "#Generate cartesian product of fn and ln\n",
    "import itertools\n",
    "name_df = pd.DataFrame(list(itertools.product(fn_df[0],fn_df[0])),columns=['First name','Last name'])\n",
    "\n",
    "#Take a sample of names equal to the number of companies\n",
    "name_df = name_df.sample(n=2183192, random_state=1)\n",
    "name_df['Account name'] = name_df['First name'] + ' ' + name_df['Last name']\n",
    "name_df = name_df.drop(['First name', 'Last name'], axis = 1)\n",
    "name_df['Label'] = 0\n",
    "\n",
    "print('Number of names:', len(name_df.index))\n",
    "\n",
    "df = pd.concat([comp_df, name_df])"
   ]
  },
  {
   "cell_type": "code",
   "execution_count": 8,
   "metadata": {},
   "outputs": [],
   "source": [
    "from sklearn.model_selection import train_test_split\n",
    "X = df['Account name']\n",
    "y = df['Label']\n",
    "\n",
    "#Count vectorizer for train and test data\n",
    "count_vect = CountVectorizer()\n",
    "X = count_vect.fit_transform(X)\n",
    "\n",
    "X_train, X_test, y_train, y_test = train_test_split(X, y, test_size=0.3, random_state=0)"
   ]
  },
  {
   "cell_type": "code",
   "execution_count": 9,
   "metadata": {},
   "outputs": [],
   "source": [
    "#Define performance function to claculate necessary measures\n",
    "def performance(y_test, y_pred):\n",
    "    TP = 0\n",
    "    FP = 0\n",
    "    TN = 0\n",
    "    FN = 0\n",
    "\n",
    "    for i in range(len(y_pred)): \n",
    "        if y_test[i]==y_pred[i]==1:\n",
    "           TP += 1\n",
    "        if y_pred[i]==1 and y_test[i]!=y_pred[i]:\n",
    "           FP += 1\n",
    "        if y_test[i]==y_pred[i]==0:\n",
    "           TN += 1\n",
    "        if y_pred[i]==0 and y_test[i]!=y_pred[i]:\n",
    "           FN += 1\n",
    "    \n",
    "    try:\n",
    "        Recall = TP/(TP+FN)\n",
    "        Precision = TP/(TP+FP)\n",
    "    except:\n",
    "        Recall = 0\n",
    "        Precision = 0\n",
    "        \n",
    "    return(Recall, Precision)"
   ]
  },
  {
   "cell_type": "code",
   "execution_count": 10,
   "metadata": {},
   "outputs": [
    {
     "name": "stdout",
     "output_type": "stream",
     "text": [
      "Plain accuracy: 97.49%\n",
      "Recall: 95.01%\n",
      "Precision: 99.97%\n"
     ]
    },
    {
     "data": {
      "image/png": "[encoded data removed]",
      "text/plain": [
       "<Figure size 432x288 with 2 Axes>"
      ]
     },
     "metadata": {
      "needs_background": "light"
     },
     "output_type": "display_data"
    }
   ],
   "source": [
    "#Naive Baysian classifier\n",
    "\n",
    "clf = MultinomialNB().fit(X_train, y_train)\n",
    "y_pred = clf.predict(X_test)\n",
    "acc_score = accuracy_score(y_test, y_pred)\n",
    "Recall, Precision = performance(y_test.values, y_pred)\n",
    "print('Plain accuracy: {:.2f}%'.format(acc_score*100))\n",
    "print('Recall: {:.2f}%'.format(Recall*100))\n",
    "print('Precision: {:.2f}%'.format(Precision*100))\n",
    "\n",
    "# Plot non-normalized confusion matrix\n",
    "disp = plot_confusion_matrix(clf, X_test, y_test,\n",
    "                             cmap=plt.cm.Blues,\n",
    "                             values_format = '.0f')\n",
    "disp.ax_.set_title('Confusion matrix')\n",
    "plt.grid(False)\n",
    "plt.show()"
   ]
  },
  {
   "cell_type": "code",
   "execution_count": null,
   "metadata": {},
   "outputs": [],
   "source": []
  }
 ],
 "metadata": {
  "kernelspec": {
   "display_name": "Python 3",
   "language": "python",
   "name": "python3"
  },
  "language_info": {
   "codemirror_mode": {
    "name": "ipython",
    "version": 3
   },
   "file_extension": ".py",
   "mimetype": "text/x-python",
   "name": "python",
   "nbconvert_exporter": "python",
   "pygments_lexer": "ipython3",
   "version": "3.7.9"
  },
  "varInspector": {
   "cols": {
    "lenName": 16,
    "lenType": 16,
    "lenVar": 40
   },
   "kernels_config": {
    "python": {
     "delete_cmd_postfix": "",
     "delete_cmd_prefix": "del ",
     "library": "var_list.py",
     "varRefreshCmd": "print(var_dic_list())"
    },
    "r": {
     "delete_cmd_postfix": ") ",
     "delete_cmd_prefix": "rm(",
     "library": "var_list.r",
     "varRefreshCmd": "cat(var_dic_list()) "
    }
   },
   "types_to_exclude": [
    "module",
    "function",
    "builtin_function_or_method",
    "instance",
    "_Feature"
   ],
   "window_display": false
  }
 },
 "nbformat": 4,
 "nbformat_minor": 4
}
