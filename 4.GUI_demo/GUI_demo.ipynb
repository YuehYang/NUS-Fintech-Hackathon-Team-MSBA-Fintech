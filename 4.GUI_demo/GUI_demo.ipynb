{
 "cells": [
  {
   "cell_type": "markdown",
   "metadata": {},
   "source": [
    "# GUI Demo"
   ]
  },
  {
   "cell_type": "markdown",
   "metadata": {},
   "source": [
    "This is a GUI Demo constructed by PySimpleGUI. To refer to each function of graph analysis and background data check with Web data scraping, please find notebooks of them.\n",
    "Account no \"222\" is set as an attacker. To show a result of the failed case, please use it."
   ]
  },
  {
   "cell_type": "markdown",
   "metadata": {},
   "source": [
    "# install PySimpleGUI"
   ]
  },
  {
   "cell_type": "code",
   "execution_count": 1,
   "metadata": {},
   "outputs": [
    {
     "name": "stdout",
     "output_type": "stream",
     "text": [
      "Requirement already satisfied: PySimpleGUI in c:\\users\\gamis\\anaconda3\\lib\\site-packages (4.33.0)\n"
     ]
    }
   ],
   "source": [
    "! pip install PySimpleGUI"
   ]
  },
  {
   "cell_type": "markdown",
   "metadata": {},
   "source": [
    "# Run GUI Demo"
   ]
  },
  {
   "cell_type": "code",
   "execution_count": 2,
   "metadata": {
    "scrolled": true
   },
   "outputs": [
    {
     "name": "stdout",
     "output_type": "stream",
     "text": [
      "*** Duplicate key found in your layout image ***\n",
      "*** Replaced new key with image0 ***\n",
      "*** Duplicate key found in your layout image ***\n",
      "*** Replaced new key with image0 ***\n",
      "exit\n"
     ]
    }
   ],
   "source": [
    "import PySimpleGUI as sg\n",
    "\n",
    "#  Section one - Set options and layouts\n",
    "sg.theme('Dark Blue 3')\n",
    "\n",
    "layout_L1 = [\n",
    "    [sg.Text('Transfer to bank:', size=(20, 1)), sg.InputText(\"BNP Paribas\")],\n",
    "    [sg.Text('Transfer to Account Name:', size=(20, 1)), sg.InputText(\"NUS company Ltd.\")],\n",
    "    [sg.Text('Transfer to Account No.', size=(20, 1)), sg.InputText(\"123\")],\n",
    "    [sg.Text('Amount of transfer', size=(20, 1)), sg.InputText(\"100,000\")],\n",
    "    [sg.Text('From Account No.:', size=(20, 1)), sg.InputText(\"456\")],\n",
    "    [sg.Checkbox('I have confirmed the details for the transaction', default=True)],\n",
    "    [sg.Submit(button_text='Submit'),sg.Submit(button_text='Settings')],\n",
    "]\n",
    "\n",
    "layout = [[sg.Frame(\"PaySec\",layout_L1)]]\n",
    "\n",
    "sub_value_1 = [\"10,000\", \"Treasury Department\", \"Manager\", \"Director\"]\n",
    "\n",
    "# Section 2 - Make window\n",
    "window = sg.Window('PaySec', layout)\n",
    "\n",
    "# Section 3 - ivent loop\n",
    "while True:\n",
    "    \n",
    "    # Section 3 - 1 - Main Window \n",
    "    event, values = window.read()\n",
    "\n",
    "    if event is None:\n",
    "        print('exit')\n",
    "        break\n",
    "        \n",
    "    # Section 3 - 2 - Define the approval rule     \n",
    "    if event == 'Settings':\n",
    "        \n",
    "        sub_layout_L1 = [\n",
    "            [sg.Text('Threshold($)', size=(26, 1)), sg.InputText(\"10,000\")],\n",
    "            [sg.Text('Department to approve', size=(26, 1)), sg.InputText(\"Treasury Department\")],\n",
    "            [sg.Text('First level authorization(Job Title)', size=(26, 1)), sg.InputText(\"Manager\")],\n",
    "            [sg.Text('Second level authorization(Job Title)', size=(26, 1)), sg.InputText(\"Director\")],\n",
    "            [sg.Checkbox('If the transaction is routine(Salary, Rent, etc), omit the approval', default=True)],\n",
    "            ]\n",
    "        \n",
    "        sub_layout_L2 = [\n",
    "            [sg.Text('Numbers of Job opening', size=(26, 1)), sg.InputText(\"20\")],\n",
    "            [sg.Text('Similarity of reviews (%) ', size=(26, 1)), sg.InputText(\"50\")],\n",
    "            [sg.Text('Linkedin profiel number', size=(26, 1)), sg.InputText(\"100\")],\n",
    "            ]\n",
    "        \n",
    "        sub_layout = [[sg.Frame(\"Definition of the rule for approval\",sub_layout_L1)],\n",
    "                      [sg.Frame(\"Back ground checking\",sub_layout_L2)],\n",
    "                      [sg.Submit(button_text='Fix Setting')]]\n",
    "        \n",
    "        sub_window_1 = sg.Window('Definition of the rule for approval', layout=sub_layout)\n",
    "        sub_event_1, sub_value_1 = sub_window_1.read()\n",
    "        \n",
    "        if sub_event_1 is None:\n",
    "            break\n",
    "\n",
    "        sub_window_1.close()\n",
    "\n",
    "    # Section 3 - 3 - Runnning Algorithm  \n",
    "    if event == 'Submit':\n",
    "        \n",
    "        # 3 - 3 - 1 Error Case\n",
    "        if values[2] == \"222\":\n",
    "            \n",
    "            sub_layout_L1 = [\n",
    "                [sg.Text('Risk detected')],\n",
    "                [sg.Text('　　Approval application has been sent to the examiner:')],\n",
    "                [sg.Text('　　Julian Marius: ' + sub_value_1[2] + ' in ' + sub_value_1[1])],                \n",
    "                ]\n",
    "            \n",
    "            sub_layout_L2 = [\n",
    "                [sg.Text('□　Network Analysis : Failed')],\n",
    "                #[sg.Text('　-Network Credibility is less than thleshold :0.00456\\n')], # Change later\n",
    "                [sg.Text('     -Network: Isolated cluster.')],\n",
    "                [sg.Image(filename='data/networkx_1.png', key='image', size=(300, 150))], # Change late\n",
    "                [sg.Text('')],\n",
    "                [sg.Text('□　Credibility Confirmation with WebData Scraping : Failed')],\n",
    "                [sg.Text('   -Credibility:Low Level')],\n",
    "                [sg.Text('   -Scraped information was below the criteria.')],\n",
    "                [sg.Image(filename='data/warning.png', key='image', size=(100, 64))],\n",
    "                ]\n",
    "            \n",
    "            sub_layout = [[sg.Frame(\"Result\",sub_layout_L1)],\n",
    "                          [sg.Frame(\"Report\",sub_layout_L2)],\n",
    "                          [sg.Submit(button_text='Close')]]\n",
    "\n",
    "            sub_window_2 = sg.Window('Transfer', layout=sub_layout)\n",
    "\n",
    "            sub_event_2, sub_value_2 = sub_window_2.read()\n",
    "\n",
    "            if sub_event_2 is None:\n",
    "                break\n",
    "\n",
    "            sub_window_2.close()\n",
    "            \n",
    "        # 3 - 3 - 1 Success case\n",
    "        else:\n",
    "\n",
    "            sub_layout_L1 =[[sg.Text('Successfully Transferred')],\n",
    "                            [sg.Text('$'+ values[3] + ' to ' + values[1] + '; account ' + values[2] + ' in ' + values[0])],\n",
    "                            ]\n",
    "            \n",
    "            sub_layout_L2 = [                \n",
    "                [sg.Text('□ Network Analysis : Success')],\n",
    "                #[sg.Text('  -Network Credibility:0.23456')], # Change later\n",
    "                [sg.Text('  -Network: Connected cluster')],\n",
    "                [sg.Image(filename='data/networkx_2.png', key='image', size=(200, 150))], # Change late\n",
    "                [sg.Text('')],\n",
    "                [sg.Text('□  Credibility Confirmation with WebData Scraping : Success')],\n",
    "                [sg.Text('   -Credibility:High Level')],\n",
    "                [sg.Image(filename='data/security.png', key='image', size=(64, 64))],\n",
    "                ]\n",
    "            \n",
    "            sub_layout = [[sg.Frame(\"Result\",sub_layout_L1)],\n",
    "                          [sg.Frame(\"Report\",sub_layout_L2)],\n",
    "                          [sg.Submit(button_text='Close')]]\n",
    "\n",
    "            sub_window_2 = sg.Window('Transfer', layout=sub_layout)\n",
    "\n",
    "            sub_event_2, sub_value_2 = sub_window_2.read()\n",
    "\n",
    "            if sub_event_2 is None:\n",
    "                break\n",
    "\n",
    "            sub_window_2.close()\n",
    "\n",
    "# Section4 - Window Close\n",
    "window.close()"
   ]
  },
  {
   "cell_type": "code",
   "execution_count": null,
   "metadata": {},
   "outputs": [],
   "source": []
  }
 ],
 "metadata": {
  "kernelspec": {
   "display_name": "Python 3",
   "language": "python",
   "name": "python3"
  },
  "language_info": {
   "codemirror_mode": {
    "name": "ipython",
    "version": 3
   },
   "file_extension": ".py",
   "mimetype": "text/x-python",
   "name": "python",
   "nbconvert_exporter": "python",
   "pygments_lexer": "ipython3",
   "version": "3.7.9"
  }
 },
 "nbformat": 4,
 "nbformat_minor": 4
}
